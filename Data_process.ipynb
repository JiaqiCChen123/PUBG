{
 "cells": [
  {
   "cell_type": "code",
   "execution_count": 1,
   "metadata": {},
   "outputs": [
    {
     "data": {
      "text/html": [
       "Current session configs: <tt>{'conf': {'spark.pyspark.python': 'python3', 'spark.pyspark.virtualenv.enabled': 'true', 'spark.pyspark.virtualenv.type': 'native', 'spark.pyspark.virtualenv.bin.path': '/usr/bin/virtualenv'}, 'kind': 'pyspark'}</tt><br>"
      ],
      "text/plain": [
       "<IPython.core.display.HTML object>"
      ]
     },
     "metadata": {},
     "output_type": "display_data"
    },
    {
     "data": {
      "text/html": [
       "No active sessions."
      ],
      "text/plain": [
       "<IPython.core.display.HTML object>"
      ]
     },
     "metadata": {},
     "output_type": "display_data"
    }
   ],
   "source": [
    "%%info"
   ]
  },
  {
   "cell_type": "markdown",
   "metadata": {},
   "source": [
    "## Map design comparison"
   ]
  },
  {
   "cell_type": "code",
   "execution_count": 2,
   "metadata": {},
   "outputs": [
    {
     "data": {
      "application/vnd.jupyter.widget-view+json": {
       "model_id": "93b32f208ec3419ebdfc861d566fd06c",
       "version_major": 2,
       "version_minor": 0
      },
      "text/plain": [
       "VBox()"
      ]
     },
     "metadata": {},
     "output_type": "display_data"
    },
    {
     "name": "stdout",
     "output_type": "stream",
     "text": [
      "Starting Spark application\n"
     ]
    },
    {
     "data": {
      "text/html": [
       "<table>\n",
       "<tr><th>ID</th><th>YARN Application ID</th><th>Kind</th><th>State</th><th>Spark UI</th><th>Driver log</th><th>Current session?</th></tr><tr><td>5</td><td>application_1575934167013_0006</td><td>pyspark</td><td>idle</td><td><a target=\"_blank\" href=\"http://ip-172-31-27-108.us-east-2.compute.internal:20888/proxy/application_1575934167013_0006/\">Link</a></td><td><a target=\"_blank\" href=\"http://ip-172-31-23-37.us-east-2.compute.internal:8042/node/containerlogs/container_1575934167013_0006_01_000001/livy\">Link</a></td><td>✔</td></tr></table>"
      ],
      "text/plain": [
       "<IPython.core.display.HTML object>"
      ]
     },
     "metadata": {},
     "output_type": "display_data"
    },
    {
     "data": {
      "application/vnd.jupyter.widget-view+json": {
       "model_id": "",
       "version_major": 2,
       "version_minor": 0
      },
      "text/plain": [
       "FloatProgress(value=0.0, bar_style='info', description='Progress:', layout=Layout(height='25px', width='50%'),…"
      ]
     },
     "metadata": {},
     "output_type": "display_data"
    },
    {
     "name": "stdout",
     "output_type": "stream",
     "text": [
      "SparkSession available as 'spark'.\n"
     ]
    },
    {
     "data": {
      "application/vnd.jupyter.widget-view+json": {
       "model_id": "",
       "version_major": 2,
       "version_minor": 0
      },
      "text/plain": [
       "FloatProgress(value=0.0, bar_style='info', description='Progress:', layout=Layout(height='25px', width='50%'),…"
      ]
     },
     "metadata": {},
     "output_type": "display_data"
    }
   ],
   "source": [
    "death1 = sc.textFile('s3a://chickenspark/deaths/kill_match_stats_final_0.csv')"
   ]
  },
  {
   "cell_type": "code",
   "execution_count": 3,
   "metadata": {},
   "outputs": [
    {
     "data": {
      "application/vnd.jupyter.widget-view+json": {
       "model_id": "026d70730e644a49a8a663ff43915c0f",
       "version_major": 2,
       "version_minor": 0
      },
      "text/plain": [
       "VBox()"
      ]
     },
     "metadata": {},
     "output_type": "display_data"
    },
    {
     "data": {
      "application/vnd.jupyter.widget-view+json": {
       "model_id": "",
       "version_major": 2,
       "version_minor": 0
      },
      "text/plain": [
       "FloatProgress(value=0.0, bar_style='info', description='Progress:', layout=Layout(height='25px', width='50%'),…"
      ]
     },
     "metadata": {},
     "output_type": "display_data"
    }
   ],
   "source": [
    "def map_compare(death):\n",
    "    # Create a header rdd for death data\n",
    "    death_header = sc.parallelize(\n",
    "        ['killed_by,killer_name,killer_placement,\\\n",
    "        killer_position_x,killer_position_y,map,match_id,\\\n",
    "        time,victim_name,victim_placement,victim_position_x,victim_position_y'])\n",
    "    # Subtract the header row in death rdd\n",
    "    death = death.subtract(death_header)\n",
    "    # Calculate the number of games for each map\n",
    "    death_map_count = death.map(lambda x: (x.split(',')[5], 1))\n",
    "    death_map_group_count = death_map_count.reduceByKey(lambda x, y: x+y)\n",
    "    # Get map:time pair\n",
    "    death_map_live_count = death.map(\n",
    "        lambda x: (x.split(',')[5], int(x.split(',')[7])))\n",
    "    # Get the data for time less than 180\n",
    "    death_map_live_count_180 = death_map_live_count.filter(\n",
    "        lambda x: x[1] <= 180)\n",
    "    death_map_live_count_180 = death_map_live_count_180.groupByKey()\n",
    "    death_map_live_count_180 = death_map_live_count_180.mapValues(\n",
    "        lambda x: len(x))\n",
    "    death_map_live_final = death_map_live_count_180.join(death_map_group_count)\n",
    "    # Get the ratio for time less than 180\n",
    "    death_map_live_final_180 = death_map_live_final.map(\n",
    "        lambda x: x[1]).map(lambda x: x[0]/x[1])\n",
    "    # Get the data for time more than 180 and less than 600\n",
    "    death_map_live_count_180_600 = death_map_live_count.filter(\n",
    "        lambda x: x[1] <= 600).filter(lambda x: x[1] > 180)\n",
    "    # Get the data for time more than 600 and less than 1200\n",
    "    death_map_live_count_600_1200 = death_map_live_count.filter(\n",
    "        lambda x: x[1] <= 1200).filter(lambda x: x[1] > 600)\n",
    "    # Get the data for time more than 1200\n",
    "    death_map_live_count_1200 = death_map_live_count.filter(\n",
    "        lambda x: x[1] > 1200)\n",
    "    # Get the count for time more than 180 and less than 600\n",
    "    death_map_live_count_180_600 = death_map_live_count_180_600.groupByKey(\n",
    "    ).mapValues(lambda x: len(x))\n",
    "    # Get the count for time more than 600 and less than 1200\n",
    "    death_map_live_count_600_1200 = death_map_live_count_600_1200.groupByKey(\n",
    "    ).mapValues(lambda x: len(x))\n",
    "    # Get the count for time more than 1200\n",
    "    death_map_live_count_1200 = death_map_live_count_1200.groupByKey(\n",
    "    ).mapValues(lambda x: len(x))\n",
    "    death_map_live_final_180_600 = death_map_live_count_180_600.join(\n",
    "        death_map_group_count)\n",
    "    death_map_live_final_600_1200 = death_map_live_count_600_1200.join(\n",
    "        death_map_group_count)\n",
    "    death_map_live_final_1200 = death_map_live_count_600_1200.join(\n",
    "        death_map_group_count)\n",
    "    # Get the ratio for time less than 180_600\n",
    "    death_map_live_final_180_600 = death_map_live_final_180_600.map(\n",
    "        lambda x: x[1]).map(lambda x: x[0]/x[1])\n",
    "    # Get the ratio for time less than 600_1200\n",
    "    death_map_live_final_600_1200 = death_map_live_final_600_1200.map(\n",
    "        lambda x: x[1]).map(lambda x: x[0]/x[1])\n",
    "    # Get the ratio for time more than 1200\n",
    "    death_map_live_final_1200 = death_map_live_final_1200.map(\n",
    "        lambda x: x[1]).map(lambda x: x[0]/x[1])\n",
    "\n",
    "    return death_map_live_final_180, death_map_live_final_180_600, death_map_live_final_600_1200, death_map_live_final_1200"
   ]
  },
  {
   "cell_type": "code",
   "execution_count": 4,
   "metadata": {},
   "outputs": [
    {
     "data": {
      "application/vnd.jupyter.widget-view+json": {
       "model_id": "8100d8f4b6a548e18b44f58dff023f5a",
       "version_major": 2,
       "version_minor": 0
      },
      "text/plain": [
       "VBox()"
      ]
     },
     "metadata": {},
     "output_type": "display_data"
    },
    {
     "data": {
      "application/vnd.jupyter.widget-view+json": {
       "model_id": "",
       "version_major": 2,
       "version_minor": 0
      },
      "text/plain": [
       "FloatProgress(value=0.0, bar_style='info', description='Progress:', layout=Layout(height='25px', width='50%'),…"
      ]
     },
     "metadata": {},
     "output_type": "display_data"
    }
   ],
   "source": [
    "death_map_live_final_180, death_map_live_final_180_600, death_map_live_final_600_1200, death_map_live_final_1200 = map_compare(\n",
    "    death1)"
   ]
  },
  {
   "cell_type": "code",
   "execution_count": 6,
   "metadata": {},
   "outputs": [
    {
     "data": {
      "application/vnd.jupyter.widget-view+json": {
       "model_id": "d74761e3f4ae4a2cb67c36dd15bcfb3c",
       "version_major": 2,
       "version_minor": 0
      },
      "text/plain": [
       "VBox()"
      ]
     },
     "metadata": {},
     "output_type": "display_data"
    },
    {
     "data": {
      "application/vnd.jupyter.widget-view+json": {
       "model_id": "",
       "version_major": 2,
       "version_minor": 0
      },
      "text/plain": [
       "FloatProgress(value=0.0, bar_style='info', description='Progress:', layout=Layout(height='25px', width='50%'),…"
      ]
     },
     "metadata": {},
     "output_type": "display_data"
    },
    {
     "name": "stdout",
     "output_type": "stream",
     "text": [
      "[0.16788648612109705, 0.18168057534517332, 0.1654980416872671]"
     ]
    }
   ],
   "source": [
    "death_map_live_final_180.collect()"
   ]
  },
  {
   "cell_type": "code",
   "execution_count": 7,
   "metadata": {},
   "outputs": [
    {
     "data": {
      "application/vnd.jupyter.widget-view+json": {
       "model_id": "a31af7a77de44303a63b14b087ccce4c",
       "version_major": 2,
       "version_minor": 0
      },
      "text/plain": [
       "VBox()"
      ]
     },
     "metadata": {},
     "output_type": "display_data"
    },
    {
     "data": {
      "application/vnd.jupyter.widget-view+json": {
       "model_id": "",
       "version_major": 2,
       "version_minor": 0
      },
      "text/plain": [
       "FloatProgress(value=0.0, bar_style='info', description='Progress:', layout=Layout(height='25px', width='50%'),…"
      ]
     },
     "metadata": {},
     "output_type": "display_data"
    },
    {
     "name": "stdout",
     "output_type": "stream",
     "text": [
      "[0.3469940821857198, 0.3178359255473923, 0.32198110786862905]"
     ]
    }
   ],
   "source": [
    "death_map_live_final_180_600.collect()"
   ]
  },
  {
   "cell_type": "code",
   "execution_count": 8,
   "metadata": {},
   "outputs": [
    {
     "data": {
      "application/vnd.jupyter.widget-view+json": {
       "model_id": "1af3d8522c9445458ff7333969d77872",
       "version_major": 2,
       "version_minor": 0
      },
      "text/plain": [
       "VBox()"
      ]
     },
     "metadata": {},
     "output_type": "display_data"
    },
    {
     "data": {
      "application/vnd.jupyter.widget-view+json": {
       "model_id": "",
       "version_major": 2,
       "version_minor": 0
      },
      "text/plain": [
       "FloatProgress(value=0.0, bar_style='info', description='Progress:', layout=Layout(height='25px', width='50%'),…"
      ]
     },
     "metadata": {},
     "output_type": "display_data"
    },
    {
     "name": "stdout",
     "output_type": "stream",
     "text": [
      "[0.23679245862753412, 0.24171285865771974, 0.2444907153630453]"
     ]
    }
   ],
   "source": [
    "death_map_live_final_600_1200.collect()"
   ]
  },
  {
   "cell_type": "code",
   "execution_count": 9,
   "metadata": {},
   "outputs": [
    {
     "data": {
      "application/vnd.jupyter.widget-view+json": {
       "model_id": "d4fbe547a33645a4af9983d6545e213a",
       "version_major": 2,
       "version_minor": 0
      },
      "text/plain": [
       "VBox()"
      ]
     },
     "metadata": {},
     "output_type": "display_data"
    },
    {
     "data": {
      "application/vnd.jupyter.widget-view+json": {
       "model_id": "",
       "version_major": 2,
       "version_minor": 0
      },
      "text/plain": [
       "FloatProgress(value=0.0, bar_style='info', description='Progress:', layout=Layout(height='25px', width='50%'),…"
      ]
     },
     "metadata": {},
     "output_type": "display_data"
    },
    {
     "name": "stdout",
     "output_type": "stream",
     "text": [
      "[0.23679245862753412, 0.24171285865771974, 0.2444907153630453]"
     ]
    }
   ],
   "source": [
    "death_map_live_final_1200.collect()"
   ]
  },
  {
   "cell_type": "code",
   "execution_count": null,
   "metadata": {},
   "outputs": [],
   "source": [
    "death_map_live_final_180.saveAsTextFile(\n",
    "    's3n://chickenspark/deaths/death_map_live_final_180')"
   ]
  },
  {
   "cell_type": "code",
   "execution_count": null,
   "metadata": {},
   "outputs": [],
   "source": [
    "death_map_live_final_180_600.saveAsTextFile(\n",
    "    's3n://chickenspark/deaths/death_map_live_final_180_600')"
   ]
  },
  {
   "cell_type": "code",
   "execution_count": null,
   "metadata": {},
   "outputs": [],
   "source": [
    "death_map_live_final_600_1200.saveAsTextFile(\n",
    "    's3n://chickenspark/deaths/death_map_live_final_600_1200')"
   ]
  },
  {
   "cell_type": "code",
   "execution_count": null,
   "metadata": {},
   "outputs": [],
   "source": [
    "death_map_live_final_1200.saveAsTextFile(\n",
    "    's3n://chickenspark/deaths/death_map_live_final_1200')"
   ]
  },
  {
   "cell_type": "code",
   "execution_count": null,
   "metadata": {},
   "outputs": [],
   "source": []
  },
  {
   "cell_type": "markdown",
   "metadata": {},
   "source": [
    "## Aggregate data analysis"
   ]
  },
  {
   "cell_type": "code",
   "execution_count": null,
   "metadata": {},
   "outputs": [],
   "source": [
    "agg1 = sc.textFile('s3a://chickenspark/aggregate/agg_match_stats_0.csv')"
   ]
  },
  {
   "cell_type": "code",
   "execution_count": null,
   "metadata": {},
   "outputs": [],
   "source": [
    "print(agg1.count())  # count of obervations"
   ]
  },
  {
   "cell_type": "code",
   "execution_count": null,
   "metadata": {},
   "outputs": [],
   "source": [
    "header = sc.parallelize(['date,game_size,match_id,match_mode,party_size,player_assists,\\\n",
    "                         player_dbno,player_dist_ride,player_dist_walk,player_dmg,player_kills,\\\n",
    "                         player_name,player_survive_time,team_id,team_placement'])\n",
    "agg1 = agg1.subtract(header)"
   ]
  },
  {
   "cell_type": "code",
   "execution_count": null,
   "metadata": {},
   "outputs": [],
   "source": [
    "# see which mode has longest average survive time\n",
    "rdd1 = agg1.map(lambda x: (x.split(',')[3], x.split(',')[12]))\n",
    "\n",
    "rdd1_1 = rdd1.filter(lambda x: isinstance(x[1], str))\n",
    "\n",
    "rdd1_2 = rdd1_1.filter(lambda x: x[1].replace('.', '1').isnumeric())\n",
    "rdd1_2 = rdd1_2.map(lambda x: (x[0], float(x[1])))\n",
    "\n",
    "# remove the outliers\n",
    "rdd1_2 = rdd1_2.filter(lambda x: x[1] < 10000)"
   ]
  },
  {
   "cell_type": "markdown",
   "metadata": {},
   "source": [
    "### The average survive time in the TPP mode"
   ]
  },
  {
   "cell_type": "code",
   "execution_count": null,
   "metadata": {},
   "outputs": [],
   "source": [
    "rdd1_3 = rdd1_2.groupByKey().map(lambda x: (\n",
    "    x[0], sum(list(x[1])) / len(list(x[1]))))"
   ]
  },
  {
   "cell_type": "code",
   "execution_count": null,
   "metadata": {},
   "outputs": [],
   "source": [
    "rdd2 = agg1.map(lambda x: x.split(',')[9]).filter(lambda x: isinstance(\n",
    "    x, str)).filter(lambda x: x.replace('.', '1').isnumeric()).map(lambda x: float(x))"
   ]
  },
  {
   "cell_type": "code",
   "execution_count": null,
   "metadata": {},
   "outputs": [],
   "source": [
    "rdd2.max()   # maximum damage (average 100-200 to kill a person)"
   ]
  },
  {
   "cell_type": "code",
   "execution_count": null,
   "metadata": {},
   "outputs": [],
   "source": [
    "rdd2_1 = agg1.map(lambda x: x.split(',')[10]).filter(lambda x: isinstance(\n",
    "    x, str)).filter(lambda x: x.replace('.', '1').isnumeric()).map(lambda x: float(x))\n",
    "rdd2_1.max()   # maximum kill"
   ]
  },
  {
   "cell_type": "code",
   "execution_count": null,
   "metadata": {},
   "outputs": [],
   "source": [
    "rdd2_2 = agg1.map(lambda x: x.split(',')[5]).filter(lambda x: isinstance(x, str)).filter(\n",
    "    lambda x: x.replace('.', '1').isnumeric()).map(lambda x: float(x)).filter(lambda x: x < 10000)\n",
    "rdd2_2.max()   # maximum assist"
   ]
  },
  {
   "cell_type": "code",
   "execution_count": null,
   "metadata": {},
   "outputs": [],
   "source": [
    "rdd2_3 = agg1.map(lambda x: x.split(',')[12]).filter(lambda x: isinstance(x, str)).filter(\n",
    "    lambda x: x.replace('.', '1').isnumeric()).map(lambda x: float(x)).filter(lambda x: x < 10000)\n",
    "rdd2_3.max()  # maximum survive time (after deleting the outliers)"
   ]
  },
  {
   "cell_type": "markdown",
   "metadata": {},
   "source": [
    "### Analyse the distribution of assistance, kills, survive times and damage by group-size."
   ]
  },
  {
   "cell_type": "code",
   "execution_count": null,
   "metadata": {},
   "outputs": [],
   "source": [
    "rdd3 = agg1.map(lambda x: (x.split(',')[4], (x.split(\n",
    "    ',')[5], x.split(',')[9], x.split(',')[10], x.split(',')[12])))"
   ]
  },
  {
   "cell_type": "code",
   "execution_count": null,
   "metadata": {},
   "outputs": [],
   "source": [
    "rdd3 = rdd3.filter(lambda x: x[1][3].replace('.', '1').isdigit() and x[1][0].replace(\n",
    "    '.', '1').isdigit() and x[1][1].replace('.', '1').isdigit() and x[1][2].replace('.', '1').isdigit())"
   ]
  },
  {
   "cell_type": "code",
   "execution_count": null,
   "metadata": {},
   "outputs": [],
   "source": [
    "rdd3_2 = rdd3.map(lambda x: (x[0], float(x[1][0]))).groupByKey()\n",
    "# distribution of assistance"
   ]
  },
  {
   "cell_type": "code",
   "execution_count": null,
   "metadata": {},
   "outputs": [],
   "source": [
    "# rdd3_2.saveAsTextFile('s3n://chickenspark/aggregate/temp/assistance_histogram')"
   ]
  },
  {
   "cell_type": "code",
   "execution_count": null,
   "metadata": {},
   "outputs": [],
   "source": [
    "rdd3_3 = rdd3.map(lambda x: (x[0], float(x[1][2]))).groupByKey()"
   ]
  },
  {
   "cell_type": "code",
   "execution_count": null,
   "metadata": {},
   "outputs": [],
   "source": [
    "# rdd3_3.saveAsTextFile('s3a://chickenspark/aggregate/temp/kill_histogram')"
   ]
  },
  {
   "cell_type": "code",
   "execution_count": null,
   "metadata": {},
   "outputs": [],
   "source": [
    "rdd3_4 = rdd3.map(lambda x: (x[0], float(x[1][3]))).groupByKey()\n",
    "# distribution of survive time"
   ]
  },
  {
   "cell_type": "code",
   "execution_count": null,
   "metadata": {},
   "outputs": [],
   "source": [
    "# rdd3_4.saveAsTextFile('s3a://chickenspark/aggregate/temp/survive_histogram')"
   ]
  },
  {
   "cell_type": "markdown",
   "metadata": {},
   "source": [
    "### For good-survivers, are they good at killing people or just hiding?"
   ]
  },
  {
   "cell_type": "code",
   "execution_count": null,
   "metadata": {},
   "outputs": [],
   "source": [
    "# Because the avarage survive time is 786 seconds, we set the threshold as 1200 seconds (20 minutes) fro long-survivers.\n",
    "rdd4 = agg1.map(lambda x: (x.split(',')[12], (x.split(',')[9], x.split(',')[10]))).filter(\n",
    "    lambda x: x[0].replace('.', '1').isdigit() and float(x[0]) > 1200 and float(x[0]) < 10000)"
   ]
  },
  {
   "cell_type": "code",
   "execution_count": null,
   "metadata": {},
   "outputs": [],
   "source": [
    "rdd4.count()  # sample has 3918402 of long-survivors."
   ]
  },
  {
   "cell_type": "code",
   "execution_count": null,
   "metadata": {},
   "outputs": [],
   "source": [
    "# the damage and killing number of long-survived-people distribution\n",
    "rdd4_1 = rdd4.map(lambda x: float(x[1][0]))  # distribution of damage\n",
    "rdd4_2 = rdd4.map(lambda x: float(x[1][1]))  # distributino of kills\n",
    "rdd4_9 = rdd4.map(lambda x: (float(x[1][0]), float(x[1][1]))).map(\n",
    "    lambda x: x[0]/(x[0]+1))"
   ]
  },
  {
   "cell_type": "code",
   "execution_count": null,
   "metadata": {},
   "outputs": [],
   "source": [
    "# rdd4_1.saveAsTextFile('s3a://chickenspark/aggregate/temp/damage_histogram_for_long_surviver')\n",
    "# rdd4_2.saveAsTextFile('s3a://chickenspark/aggregate/temp/kill_histogram_for_long_surviver')\n",
    "# rdd4_9.saveAsTextFile('s3a://chickenspark/aggregate/temp/Kill_Damage_value_histogram_for_long_surviver')"
   ]
  },
  {
   "cell_type": "markdown",
   "metadata": {},
   "source": [
    "### Compare with avarage damage and avarage kills off all"
   ]
  },
  {
   "cell_type": "code",
   "execution_count": null,
   "metadata": {},
   "outputs": [],
   "source": [
    "# average damage and average killing overall:\n",
    "rdd4_3 = agg1.map(lambda x: x.split(',')[9]).filter(\n",
    "    lambda x: x.replace('.', '1').isdigit())\n",
    "rdd4_4 = agg1.map(lambda x: x.split(',')[10]).filter(\n",
    "    lambda x: x.replace('.', '1').isdigit())"
   ]
  },
  {
   "cell_type": "code",
   "execution_count": null,
   "metadata": {},
   "outputs": [],
   "source": [
    "rdd4_3.map(lambda x: float(x)).mean()  # average damage overall is 123.9"
   ]
  },
  {
   "cell_type": "code",
   "execution_count": null,
   "metadata": {},
   "outputs": [],
   "source": [
    "rdd4_4.map(lambda x: float(x)).mean()  # average kill number is  0.887"
   ]
  },
  {
   "cell_type": "code",
   "execution_count": null,
   "metadata": {},
   "outputs": [],
   "source": [
    "# Damage/Kill value overrall: the smaller the value, more likely the person is.\n",
    "rdd4_5 = agg1.map(lambda x: (x.split(',')[9], x.split(',')[10])).filter(lambda x: x[1].replace(\n",
    "    '.', '1').isdigit() and x[0].replace('.', '1').isdigit()).map(lambda x: (float(x[0]), float(x[1])))\n",
    "rdd4_5.map(lambda x: x[0]/(x[1]+1)).mean()\n",
    "# average Damage/Kill value overall is 53.17"
   ]
  },
  {
   "cell_type": "code",
   "execution_count": null,
   "metadata": {},
   "outputs": [],
   "source": []
  },
  {
   "cell_type": "markdown",
   "metadata": {},
   "source": [
    "## Weapon Analysis"
   ]
  },
  {
   "cell_type": "code",
   "execution_count": 2,
   "metadata": {},
   "outputs": [
    {
     "data": {
      "application/vnd.jupyter.widget-view+json": {
       "model_id": "5a7944874c1143bb875db81a159aac61",
       "version_major": 2,
       "version_minor": 0
      },
      "text/plain": [
       "VBox()"
      ]
     },
     "metadata": {},
     "output_type": "display_data"
    },
    {
     "name": "stdout",
     "output_type": "stream",
     "text": [
      "Starting Spark application\n"
     ]
    },
    {
     "data": {
      "text/html": [
       "<table>\n",
       "<tr><th>ID</th><th>YARN Application ID</th><th>Kind</th><th>State</th><th>Spark UI</th><th>Driver log</th><th>Current session?</th></tr><tr><td>4</td><td>application_1575934167013_0005</td><td>pyspark</td><td>idle</td><td><a target=\"_blank\" href=\"http://ip-172-31-27-108.us-east-2.compute.internal:20888/proxy/application_1575934167013_0005/\">Link</a></td><td><a target=\"_blank\" href=\"http://ip-172-31-31-167.us-east-2.compute.internal:8042/node/containerlogs/container_1575934167013_0005_01_000002/livy\">Link</a></td><td>✔</td></tr></table>"
      ],
      "text/plain": [
       "<IPython.core.display.HTML object>"
      ]
     },
     "metadata": {},
     "output_type": "display_data"
    },
    {
     "data": {
      "application/vnd.jupyter.widget-view+json": {
       "model_id": "",
       "version_major": 2,
       "version_minor": 0
      },
      "text/plain": [
       "FloatProgress(value=0.0, bar_style='info', description='Progress:', layout=Layout(height='25px', width='50%'),…"
      ]
     },
     "metadata": {},
     "output_type": "display_data"
    },
    {
     "name": "stdout",
     "output_type": "stream",
     "text": [
      "SparkSession available as 'spark'.\n"
     ]
    },
    {
     "data": {
      "application/vnd.jupyter.widget-view+json": {
       "model_id": "",
       "version_major": 2,
       "version_minor": 0
      },
      "text/plain": [
       "FloatProgress(value=0.0, bar_style='info', description='Progress:', layout=Layout(height='25px', width='50%'),…"
      ]
     },
     "metadata": {},
     "output_type": "display_data"
    }
   ],
   "source": [
    "def whatweapon(death):\n",
    "    header = sc.parallelize(\n",
    "        ['killed_by,killer_name,killer_placement,\\\n",
    "        killer_position_x,killer_position_y,map,match_id,time,\\\n",
    "        victim_name,victim_placement,victim_position_x,victim_position_y'])\n",
    "    noweapon = ['Down and Out', 'Falling', 'Hit by Car', 'Drown',\n",
    "                'Uaz', 'RedZone', 'Motorbike (SideCar)', 'Motorbike',\n",
    "                'Pickup Truck', 'Buggy', 'Boat', 'Van', 'death.RedZoneBomb_C', 'Aquarail', 'death.PG117_A_01_C']\n",
    "    death = death.subtract(header)\n",
    "    weapon = death.map(lambda x: (x.split(',')[0], 1))\n",
    "    weapon_group = weapon.groupByKey()\n",
    "    methods_kill = weapon_group.mapValues(\n",
    "        lambda x: sum(x)).sortBy(lambda x: x[1], False)\n",
    "    methods_kill = methods_kill.filter(lambda x: x[1] > 1)\n",
    "    weapon_kill = methods_kill.filter(lambda x: x[0] not in noweapon)\n",
    "    other_kill = methods_kill.filter(lambda x: x[0] in noweapon)\n",
    "    return (weapon_kill, other_kill)"
   ]
  },
  {
   "cell_type": "code",
   "execution_count": 3,
   "metadata": {
    "scrolled": false
   },
   "outputs": [
    {
     "data": {
      "application/vnd.jupyter.widget-view+json": {
       "model_id": "a4f34b3f37eb4a2fa391eef4d48f309d",
       "version_major": 2,
       "version_minor": 0
      },
      "text/plain": [
       "VBox()"
      ]
     },
     "metadata": {},
     "output_type": "display_data"
    },
    {
     "data": {
      "application/vnd.jupyter.widget-view+json": {
       "model_id": "",
       "version_major": 2,
       "version_minor": 0
      },
      "text/plain": [
       "FloatProgress(value=0.0, bar_style='info', description='Progress:', layout=Layout(height='25px', width='50%'),…"
      ]
     },
     "metadata": {},
     "output_type": "display_data"
    }
   ],
   "source": [
    "death1 = sc.textFile('s3a://chickenspark/deaths/kill_match_stats_final_0.csv')\n",
    "weapon1, other1 = whatweapon(death1)\n",
    "death2 = sc.textFile('s3a://chickenspark/deaths/kill_match_stats_final_1.csv')\n",
    "weapon2, other2 = whatweapon(death2)\n",
    "death3 = sc.textFile('s3a://chickenspark/deaths/kill_match_stats_final_2.csv')\n",
    "weapon3, other3 = whatweapon(death3)\n",
    "death4 = sc.textFile('s3a://chickenspark/deaths/kill_match_stats_final_3.csv')\n",
    "weapon4, other4 = whatweapon(death4)\n",
    "death5 = sc.textFile('s3a://chickenspark/deaths/kill_match_stats_final_4.csv')\n",
    "weapon5, other5 = whatweapon(death5)\n",
    "weapon_join1 = weapon1.join(weapon2)\n",
    "weapon_join1 = weapon_join1.map(lambda x: (x[0], sum(x[1])))\n",
    "weapon_join2 = weapon_join1.join(weapon3)\n",
    "weapon_join2 = weapon_join2.map(lambda x: (x[0], sum(x[1])))\n",
    "weapon_join3 = weapon_join2.join(weapon4)\n",
    "weapon_join3 = weapon_join3.map(lambda x: (x[0], sum(x[1])))\n",
    "weapon_join4 = weapon_join3.join(weapon5)\n",
    "weapon_join4 = weapon_join4.map(lambda x: (\n",
    "    x[0], sum(x[1]))).sortBy(lambda x: x[1], False)\n",
    "other_join1 = other1.join(other2)\n",
    "other_join1 = other_join1.map(lambda x: (x[0], sum(x[1])))\n",
    "other_join2 = other_join1.join(other3)\n",
    "other_join2 = other_join2.map(lambda x: (x[0], sum(x[1])))\n",
    "other_join3 = other_join2.join(other4)\n",
    "other_join3 = other_join3.map(lambda x: (x[0], sum(x[1])))\n",
    "other_join4 = other_join3.join(other5)\n",
    "other_join4 = other_join4.map(lambda x: (\n",
    "    x[0], sum(x[1]))).sortBy(lambda x: x[1], False)"
   ]
  },
  {
   "cell_type": "code",
   "execution_count": null,
   "metadata": {},
   "outputs": [],
   "source": []
  },
  {
   "cell_type": "code",
   "execution_count": null,
   "metadata": {},
   "outputs": [],
   "source": []
  },
  {
   "cell_type": "code",
   "execution_count": null,
   "metadata": {},
   "outputs": [],
   "source": []
  }
 ],
 "metadata": {
  "kernelspec": {
   "display_name": "Python 3",
   "language": "python",
   "name": "python3"
  },
  "language_info": {
   "codemirror_mode": {
    "name": "ipython",
    "version": 3
   },
   "file_extension": ".py",
   "mimetype": "text/x-python",
   "name": "python",
   "nbconvert_exporter": "python",
   "pygments_lexer": "ipython3",
   "version": "3.7.3"
  }
 },
 "nbformat": 4,
 "nbformat_minor": 2
}
